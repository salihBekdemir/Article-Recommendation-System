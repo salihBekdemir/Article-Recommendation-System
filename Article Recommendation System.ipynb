{
 "cells": [
  {
   "cell_type": "markdown",
   "id": "adabfe93",
   "metadata": {},
   "source": [
    "# Article Recommendation System"
   ]
  },
  {
   "cell_type": "markdown",
   "id": "4698af4c",
   "metadata": {},
   "source": [
    "\n",
    "### In this lesson, we have 2 columns named Article and Title. We will use a model that knows which page to recommend next based on the Site pages here"
   ]
  },
  {
   "cell_type": "code",
   "execution_count": 1,
   "id": "51d5e90e",
   "metadata": {},
   "outputs": [],
   "source": [
    "import pandas as pd\n",
    "import numpy as np\n",
    "from sklearn.feature_extraction import text\n",
    "from sklearn.metrics.pairwise import cosine_similarity"
   ]
  },
  {
   "cell_type": "code",
   "execution_count": 2,
   "id": "bbb30baf",
   "metadata": {},
   "outputs": [],
   "source": [
    "df = pd.read_csv(\"https://raw.githubusercontent.com/amankharwal/Website-data/master/articles.csv\", encoding='latin1')"
   ]
  },
  {
   "cell_type": "code",
   "execution_count": 3,
   "id": "9c527ec6",
   "metadata": {},
   "outputs": [
    {
     "data": {
      "text/html": [
       "<div>\n",
       "<style scoped>\n",
       "    .dataframe tbody tr th:only-of-type {\n",
       "        vertical-align: middle;\n",
       "    }\n",
       "\n",
       "    .dataframe tbody tr th {\n",
       "        vertical-align: top;\n",
       "    }\n",
       "\n",
       "    .dataframe thead th {\n",
       "        text-align: right;\n",
       "    }\n",
       "</style>\n",
       "<table border=\"1\" class=\"dataframe\">\n",
       "  <thead>\n",
       "    <tr style=\"text-align: right;\">\n",
       "      <th></th>\n",
       "      <th>Article</th>\n",
       "      <th>Title</th>\n",
       "    </tr>\n",
       "  </thead>\n",
       "  <tbody>\n",
       "    <tr>\n",
       "      <th>0</th>\n",
       "      <td>Data analysis is the process of inspecting and...</td>\n",
       "      <td>Best Books to Learn Data Analysis</td>\n",
       "    </tr>\n",
       "    <tr>\n",
       "      <th>1</th>\n",
       "      <td>The performance of a machine learning algorith...</td>\n",
       "      <td>Assumptions of Machine Learning Algorithms</td>\n",
       "    </tr>\n",
       "    <tr>\n",
       "      <th>2</th>\n",
       "      <td>You must have seen the news divided into categ...</td>\n",
       "      <td>News Classification with Machine Learning</td>\n",
       "    </tr>\n",
       "    <tr>\n",
       "      <th>3</th>\n",
       "      <td>When there are only two classes in a classific...</td>\n",
       "      <td>Multiclass Classification Algorithms in Machin...</td>\n",
       "    </tr>\n",
       "    <tr>\n",
       "      <th>4</th>\n",
       "      <td>The Multinomial Naive Bayes is one of the vari...</td>\n",
       "      <td>Multinomial Naive Bayes in Machine Learning</td>\n",
       "    </tr>\n",
       "    <tr>\n",
       "      <th>5</th>\n",
       "      <td>You must have seen the news divided into categ...</td>\n",
       "      <td>News Classification with Machine Learning</td>\n",
       "    </tr>\n",
       "    <tr>\n",
       "      <th>6</th>\n",
       "      <td>Natural language processing or NLP is a subfie...</td>\n",
       "      <td>Best Books to Learn NLP</td>\n",
       "    </tr>\n",
       "    <tr>\n",
       "      <th>7</th>\n",
       "      <td>By using a third-party application or API to m...</td>\n",
       "      <td>Send Instagram Messages using Python</td>\n",
       "    </tr>\n",
       "    <tr>\n",
       "      <th>8</th>\n",
       "      <td>Twitter is one of the most popular social medi...</td>\n",
       "      <td>Pfizer Vaccine Sentiment Analysis using Python</td>\n",
       "    </tr>\n",
       "    <tr>\n",
       "      <th>9</th>\n",
       "      <td>The squid game is currently one of the most tr...</td>\n",
       "      <td>Squid Game Sentiment Analysis using Python</td>\n",
       "    </tr>\n",
       "  </tbody>\n",
       "</table>\n",
       "</div>"
      ],
      "text/plain": [
       "                                             Article  \\\n",
       "0  Data analysis is the process of inspecting and...   \n",
       "1  The performance of a machine learning algorith...   \n",
       "2  You must have seen the news divided into categ...   \n",
       "3  When there are only two classes in a classific...   \n",
       "4  The Multinomial Naive Bayes is one of the vari...   \n",
       "5  You must have seen the news divided into categ...   \n",
       "6  Natural language processing or NLP is a subfie...   \n",
       "7  By using a third-party application or API to m...   \n",
       "8  Twitter is one of the most popular social medi...   \n",
       "9  The squid game is currently one of the most tr...   \n",
       "\n",
       "                                               Title  \n",
       "0                  Best Books to Learn Data Analysis  \n",
       "1         Assumptions of Machine Learning Algorithms  \n",
       "2          News Classification with Machine Learning  \n",
       "3  Multiclass Classification Algorithms in Machin...  \n",
       "4        Multinomial Naive Bayes in Machine Learning  \n",
       "5          News Classification with Machine Learning  \n",
       "6                            Best Books to Learn NLP  \n",
       "7               Send Instagram Messages using Python  \n",
       "8     Pfizer Vaccine Sentiment Analysis using Python  \n",
       "9         Squid Game Sentiment Analysis using Python  "
      ]
     },
     "execution_count": 3,
     "metadata": {},
     "output_type": "execute_result"
    }
   ],
   "source": [
    "df.head(10)"
   ]
  },
  {
   "cell_type": "code",
   "execution_count": 4,
   "id": "c8331bcf",
   "metadata": {},
   "outputs": [],
   "source": [
    "from sklearn.feature_extraction.text import TfidfVectorizer\n",
    "\n",
    "# TfidfVectorizer\n",
    "uni_tfidf = TfidfVectorizer(stop_words=\"english\")\n",
    "\n",
    "uni_matrix = uni_tfidf.fit_transform(df['Article'])\n",
    "\n",
    "uni_sim = cosine_similarity(uni_matrix)"
   ]
  },
  {
   "cell_type": "code",
   "execution_count": 5,
   "id": "f616981f",
   "metadata": {},
   "outputs": [
    {
     "data": {
      "text/html": [
       "<div>\n",
       "<style scoped>\n",
       "    .dataframe tbody tr th:only-of-type {\n",
       "        vertical-align: middle;\n",
       "    }\n",
       "\n",
       "    .dataframe tbody tr th {\n",
       "        vertical-align: top;\n",
       "    }\n",
       "\n",
       "    .dataframe thead th {\n",
       "        text-align: right;\n",
       "    }\n",
       "</style>\n",
       "<table border=\"1\" class=\"dataframe\">\n",
       "  <thead>\n",
       "    <tr style=\"text-align: right;\">\n",
       "      <th></th>\n",
       "      <th>Article</th>\n",
       "      <th>Title</th>\n",
       "      <th>Recommended Articles</th>\n",
       "    </tr>\n",
       "  </thead>\n",
       "  <tbody>\n",
       "    <tr>\n",
       "      <th>0</th>\n",
       "      <td>Data analysis is the process of inspecting and...</td>\n",
       "      <td>Best Books to Learn Data Analysis</td>\n",
       "      <td>Introduction to Recommendation Systems, Best B...</td>\n",
       "    </tr>\n",
       "    <tr>\n",
       "      <th>1</th>\n",
       "      <td>The performance of a machine learning algorith...</td>\n",
       "      <td>Assumptions of Machine Learning Algorithms</td>\n",
       "      <td>Applications of Deep Learning, Best Books to L...</td>\n",
       "    </tr>\n",
       "    <tr>\n",
       "      <th>2</th>\n",
       "      <td>You must have seen the news divided into categ...</td>\n",
       "      <td>News Classification with Machine Learning</td>\n",
       "      <td>Language Detection with Machine Learning, Appl...</td>\n",
       "    </tr>\n",
       "    <tr>\n",
       "      <th>3</th>\n",
       "      <td>When there are only two classes in a classific...</td>\n",
       "      <td>Multiclass Classification Algorithms in Machin...</td>\n",
       "      <td>Assumptions of Machine Learning Algorithms, Be...</td>\n",
       "    </tr>\n",
       "    <tr>\n",
       "      <th>4</th>\n",
       "      <td>The Multinomial Naive Bayes is one of the vari...</td>\n",
       "      <td>Multinomial Naive Bayes in Machine Learning</td>\n",
       "      <td>Assumptions of Machine Learning Algorithms, Me...</td>\n",
       "    </tr>\n",
       "  </tbody>\n",
       "</table>\n",
       "</div>"
      ],
      "text/plain": [
       "                                             Article  \\\n",
       "0  Data analysis is the process of inspecting and...   \n",
       "1  The performance of a machine learning algorith...   \n",
       "2  You must have seen the news divided into categ...   \n",
       "3  When there are only two classes in a classific...   \n",
       "4  The Multinomial Naive Bayes is one of the vari...   \n",
       "\n",
       "                                               Title  \\\n",
       "0                  Best Books to Learn Data Analysis   \n",
       "1         Assumptions of Machine Learning Algorithms   \n",
       "2          News Classification with Machine Learning   \n",
       "3  Multiclass Classification Algorithms in Machin...   \n",
       "4        Multinomial Naive Bayes in Machine Learning   \n",
       "\n",
       "                                Recommended Articles  \n",
       "0  Introduction to Recommendation Systems, Best B...  \n",
       "1  Applications of Deep Learning, Best Books to L...  \n",
       "2  Language Detection with Machine Learning, Appl...  \n",
       "3  Assumptions of Machine Learning Algorithms, Be...  \n",
       "4  Assumptions of Machine Learning Algorithms, Me...  "
      ]
     },
     "execution_count": 5,
     "metadata": {},
     "output_type": "execute_result"
    }
   ],
   "source": [
    "def recommend_articles(x):    \n",
    "    return \", \".join(df[\"Title\"].loc[x.argsort()[-5:-1]])     \n",
    "df[\"Recommended Articles\"] = [recommend_articles(x) for x in uni_sim]\n",
    "df.head()\n",
    "\n",
    "# Creates a recommendation system that recommends articles and stores them in a new column called \"Recommended Articles\""
   ]
  },
  {
   "cell_type": "code",
   "execution_count": 6,
   "id": "98ce5f5d",
   "metadata": {},
   "outputs": [
    {
     "data": {
      "text/plain": [
       "'Assumptions of Machine Learning Algorithms, Mean Shift Clustering in Machine Learning, Language Detection with Machine Learning, Naive Bayes Algorithm in Machine Learning'"
      ]
     },
     "execution_count": 6,
     "metadata": {},
     "output_type": "execute_result"
    }
   ],
   "source": [
    "df[\"Recommended Articles\"][4]"
   ]
  },
  {
   "cell_type": "markdown",
   "id": "1dcabc8b",
   "metadata": {},
   "source": [
    "# In the example above, we see the closest Recommendations given according to the lines in the 4th line of the Title column."
   ]
  }
 ],
 "metadata": {
  "kernelspec": {
   "display_name": "Python 3 (ipykernel)",
   "language": "python",
   "name": "python3"
  },
  "language_info": {
   "codemirror_mode": {
    "name": "ipython",
    "version": 3
   },
   "file_extension": ".py",
   "mimetype": "text/x-python",
   "name": "python",
   "nbconvert_exporter": "python",
   "pygments_lexer": "ipython3",
   "version": "3.11.7"
  }
 },
 "nbformat": 4,
 "nbformat_minor": 5
}
